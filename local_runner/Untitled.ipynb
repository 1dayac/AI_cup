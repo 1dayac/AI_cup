{
 "cells": [
  {
   "cell_type": "code",
   "execution_count": 4,
   "metadata": {
    "collapsed": false
   },
   "outputs": [
    {
     "name": "stdout",
     "output_type": "stream",
     "text": [
      "12\n"
     ]
    }
   ],
   "source": [
    "def TXN_Origin(d, a):\n",
    "    k = 0\n",
    "    l = 0\n",
    "    for i in range(0, len(d)-1):\n",
    "        if a > i:\n",
    "            k = d[i]\n",
    "            l = d[i+1]\n",
    "    if (a - k) > (l - a):\n",
    "        return l\n",
    "    else:\n",
    "        return k\n",
    "\n",
    "arr = [1,4,10,12,15]\n",
    "print(TXN_Origin(arr, 7))"
   ]
  },
  {
   "cell_type": "code",
   "execution_count": 16,
   "metadata": {
    "collapsed": true
   },
   "outputs": [],
   "source": [
    "def partsum(s):\n",
    "\n",
    "    c = [s[0]*2]\n",
    "\n",
    "    sum = s[0]\n",
    "\n",
    "    for i in range(1, len(s)):\n",
    "\n",
    "        sum += s[i]\n",
    "\n",
    "        c.append(sum)\n",
    "\n",
    "    return c\n",
    "c = [1,2,3,4,5,6,7,8]"
   ]
  },
  {
   "cell_type": "code",
   "execution_count": 17,
   "metadata": {
    "collapsed": false
   },
   "outputs": [
    {
     "data": {
      "text/plain": [
       "[2, 3, 6, 10, 15, 21, 28, 36]"
      ]
     },
     "execution_count": 17,
     "metadata": {},
     "output_type": "execute_result"
    }
   ],
   "source": [
    "partsum(c)"
   ]
  },
  {
   "cell_type": "code",
   "execution_count": 7,
   "metadata": {
    "collapsed": true
   },
   "outputs": [],
   "source": [
    "def closest(a, b):\n",
    "\n",
    "    c = abs(b - a[0])\n",
    "\n",
    "    for i in a:\n",
    "\n",
    "        k = abs(b - i)\n",
    "\n",
    "        if k < c:\n",
    "\n",
    "            c = k\n",
    "\n",
    "    if b - c in a and a[len(a) - 1] != b - c and c != 0:\n",
    "\n",
    "        return abs(b - c)\n",
    "\n",
    "    elif a[len(a) - 1] == b - c:\n",
    "\n",
    "        return abs(b - c)\n",
    "\n",
    "    else:\n",
    "\n",
    "        return b + c"
   ]
  },
  {
   "cell_type": "code",
   "execution_count": 13,
   "metadata": {
    "collapsed": false
   },
   "outputs": [
    {
     "name": "stdout",
     "output_type": "stream",
     "text": [
      "12\n"
     ]
    }
   ],
   "source": [
    "arr = [1,4,10,12,15]\n",
    "print(closest(arr, 12))"
   ]
  },
  {
   "cell_type": "code",
   "execution_count": null,
   "metadata": {
    "collapsed": true
   },
   "outputs": [],
   "source": []
  }
 ],
 "metadata": {
  "kernelspec": {
   "display_name": "Python 2",
   "language": "python",
   "name": "python2"
  },
  "language_info": {
   "codemirror_mode": {
    "name": "ipython",
    "version": 2
   },
   "file_extension": ".py",
   "mimetype": "text/x-python",
   "name": "python",
   "nbconvert_exporter": "python",
   "pygments_lexer": "ipython2",
   "version": "2.7.6"
  }
 },
 "nbformat": 4,
 "nbformat_minor": 0
}
