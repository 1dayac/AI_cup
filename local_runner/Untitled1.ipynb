{
 "cells": [
  {
   "cell_type": "code",
   "execution_count": 4,
   "metadata": {
    "collapsed": false
   },
   "outputs": [
    {
     "name": "stdout",
     "output_type": "stream",
     "text": [
      "6\n",
      "Position - 0\n",
      "Position - 1\n",
      "Position - 2\n",
      "1\n",
      "Position - 3\n",
      "1\n",
      "Position - 4\n",
      "5\n",
      "Position - 5\n",
      "Position - 6\n",
      "Position - 7\n",
      "6\n",
      "Position - 8\n",
      "6\n",
      "Position - 9\n",
      "11\n",
      "Position - 10\n",
      "11\n",
      "Position - 11\n",
      "Position - 12\n",
      "Position - 13\n",
      "Position - 14\n"
     ]
    }
   ],
   "source": [
    "d = [1, 5, 6, 11, 12]\n",
    "f = 7\n",
    "\n",
    "def find_gene(lst, pos):\n",
    "    s = 1\n",
    "    for i in lst:\n",
    "        if s != len(lst):\n",
    "            if i < pos < lst[s]:\n",
    "                r = (lst[s] + i)/2\n",
    "                if pos > r:\n",
    "                    print(lst[s])\n",
    "                else:\n",
    "                    print(i)\n",
    "        s += 1\n",
    "find_gene(d, f)\n",
    "\n",
    "for f in range(15):\n",
    "    print(\"Position - \" + str(f)) \n",
    "    find_gene(d, f)\n"
   ]
  },
  {
   "cell_type": "code",
   "execution_count": null,
   "metadata": {
    "collapsed": true
   },
   "outputs": [],
   "source": []
  }
 ],
 "metadata": {
  "kernelspec": {
   "display_name": "Python 2",
   "language": "python",
   "name": "python2"
  },
  "language_info": {
   "codemirror_mode": {
    "name": "ipython",
    "version": 2
   },
   "file_extension": ".py",
   "mimetype": "text/x-python",
   "name": "python",
   "nbconvert_exporter": "python",
   "pygments_lexer": "ipython2",
   "version": "2.7.6"
  }
 },
 "nbformat": 4,
 "nbformat_minor": 0
}
