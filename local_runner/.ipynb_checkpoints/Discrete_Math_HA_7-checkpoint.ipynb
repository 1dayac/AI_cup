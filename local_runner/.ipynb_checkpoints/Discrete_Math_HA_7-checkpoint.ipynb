{
 "cells": [
  {
   "cell_type": "code",
   "execution_count": 9,
   "metadata": {
    "collapsed": true
   },
   "outputs": [],
   "source": [
    "# Task 1\n",
    "def closest(coords, place):\n",
    "    min_dist = None\n",
    "    closest = None\n",
    "    for coord in coords:\n",
    "        if min_dist is None or abs(coord - place) <= min_dist:\n",
    "            min_dist = abs(coord - place)\n",
    "            closest = coord\n",
    "    return closest        "
   ]
  },
  {
   "cell_type": "markdown",
   "metadata": {},
   "source": [
    "Task 2  \n",
    "Наш алгоритм терминируется тогда, когда он приходит в изначальную точку \n",
    "(там, где $(1+xn)mod(x) = 1$), где x - длина массива, n - величина сдвига. \n",
    "Алгоритм работает правильно, если $\\forall x \\forall n \\overline{\\exists k \\in Z \\neq x [(1+kn)mod(x) = 1]}$  \n",
    "Докажем, что $\\forall x \\forall n (gcd(x, n) \\geq 2) \\exists k \\in Z \\neq x [(1+kn)mod(x) = 1]$  \n",
    "Если $gcd(x, n) >= 2$, то $x = an$  \n",
    "Тогда, $(1+kn)mod(x) = 1; (1+kn)mod(an)) = 1$  \n",
    "Имеем, что $1+kn = 1+an$  \n",
    "$kn = an$  \n",
    "$k = a$  \n",
    "Получили, что однозначно определено $k = a$, такое, что $P(x, n, k) = True$  \n",
    "$\\blacksquare$"
   ]
  },
  {
   "cell_type": "code",
   "execution_count": 10,
   "metadata": {
    "collapsed": true
   },
   "outputs": [],
   "source": [
    "# Task 3\n",
    "def my_cumsum(array):\n",
    "    for i in range(1, len(array)):\n",
    "        array[i] += array[i - 1]\n",
    "    return array    "
   ]
  },
  {
   "cell_type": "code",
   "execution_count": 11,
   "metadata": {
    "collapsed": true
   },
   "outputs": [],
   "source": [
    "# Task 4\n",
    "def moore_modified(array):\n",
    "    major = array[0]\n",
    "    count = 1\n",
    "    for i in range(1, len(array)):\n",
    "        if array[i] == major:\n",
    "            count += 1\n",
    "        else:\n",
    "            count -=1\n",
    "            if count == -1:\n",
    "                major = array[i]\n",
    "                count = 1\n",
    "    count = 0\n",
    "    for element in array:\n",
    "        if element == major:\n",
    "            count += 1\n",
    "    if count >= len(array)/2:\n",
    "        return major\n",
    "    else:\n",
    "        return None   "
   ]
  },
  {
   "cell_type": "markdown",
   "metadata": {},
   "source": [
    "Это все еще работает за $O(n)$, ибо мы всегда ходим по массиву $2$ разa, $2 = const$, $O(2n) = O(n)$"
   ]
  },
  {
   "cell_type": "code",
   "execution_count": 8,
   "metadata": {
    "collapsed": false
   },
   "outputs": [
    {
     "name": "stdout",
     "output_type": "stream",
     "text": [
      "None\n"
     ]
    }
   ],
   "source": [
    "a = moore_modified([1, 2, 3, 4, 5])\n",
    "print(a)"
   ]
  },
  {
   "cell_type": "code",
   "execution_count": 12,
   "metadata": {
    "collapsed": false
   },
   "outputs": [
    {
     "data": {
      "text/plain": [
       "2"
      ]
     },
     "execution_count": 12,
     "metadata": {},
     "output_type": "execute_result"
    }
   ],
   "source": [
    "closest([1, 2, 5], 3)"
   ]
  },
  {
   "cell_type": "code",
   "execution_count": 13,
   "metadata": {
    "collapsed": false
   },
   "outputs": [
    {
     "data": {
      "text/plain": [
       "[1, 7, 83, 2305, 2361, 2372]"
      ]
     },
     "execution_count": 13,
     "metadata": {},
     "output_type": "execute_result"
    }
   ],
   "source": [
    "my_cumsum([1, 6, 76, 2222, 56, 11])"
   ]
  },
  {
   "cell_type": "code",
   "execution_count": null,
   "metadata": {
    "collapsed": true
   },
   "outputs": [],
   "source": []
  }
 ],
 "metadata": {
  "kernelspec": {
   "display_name": "Python 3",
   "language": "python",
   "name": "python3"
  },
  "language_info": {
   "codemirror_mode": {
    "name": "ipython",
    "version": 3
   },
   "file_extension": ".py",
   "mimetype": "text/x-python",
   "name": "python",
   "nbconvert_exporter": "python",
   "pygments_lexer": "ipython3",
   "version": "3.4.3"
  }
 },
 "nbformat": 4,
 "nbformat_minor": 0
}
